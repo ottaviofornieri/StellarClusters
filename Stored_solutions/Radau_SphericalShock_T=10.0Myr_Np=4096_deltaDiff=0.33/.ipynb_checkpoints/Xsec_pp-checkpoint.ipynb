{
 "cells": [
  {
   "cell_type": "code",
   "execution_count": null,
   "id": "9587d3b2",
   "metadata": {},
   "outputs": [],
   "source": [
    "import numpy as np"
   ]
  },
  {
   "cell_type": "code",
   "execution_count": null,
   "id": "af7c67e6",
   "metadata": {},
   "outputs": [],
   "source": [
    "# inelastic cross-section for proton energy in [GeV]; result in [mb]\n",
    "def sigma_inel(Tp):\n",
    "\n",
    "    Tp_th = 1.22              # threshold energy for the pi0 production, in [GeV]\n",
    "    LX = np.log( Tp/Tp_th )\n",
    "    Threshold = max( 0., 1. - ( Tp_th/Tp )**1.9 )\n",
    "\n",
    "    if Tp >= Tp_th:\n",
    "        return ( 30.7 - 0.96*LX + 0.18*LX**2. ) * Threshold**3.\n",
    "    else:\n",
    "        return 0.\n",
    "\n",
    "\n",
    "def sigma_gamma(E_proj, E_gamma):\n",
    "\n",
    "    proton_mass = m_p\n",
    "    TeV = 1.e3\n",
    "    E_p = E_proj\n",
    "    L = np.log(E_p / TeV)     # defined in pag.9\n",
    "\n",
    "    x = E_gamma / E_p         # defined in pag.9\n",
    "\n",
    "    B_gamma = 1.30 + 0.14 * L + 0.011 * L**2              # Eq.(59)\n",
    "    beta_gamma = 1. / (1.79 + 0.11 * L + 0.008 * L**2)    # Eq.(60)\n",
    "    k_gamma = 1. / (0.801 + 0.049 * L + 0.014 * L**2)     # Eq.(61)\n",
    "    x2beta = x**(beta_gamma)\n",
    "\n",
    "    F_1 = (1. - x2beta) / (1. + k_gamma * x2beta * (1. - x2beta))\n",
    "    F_2 = 4. * beta_gamma * x2beta / (1. - x2beta)\n",
    "    F_3 = 4. * k_gamma * beta_gamma * x2beta * (1. - 2. * x2beta)\n",
    "    F_3 = F_3 / ( 1. + k_gamma * x2beta * (1. - x2beta) )\n",
    "\n",
    "    F_gamma = B_gamma * np.log(x) / x * F_1**4            # Eq.(58)\n",
    "    F_gamma = F_gamma * (1. / np.log(x) - F_2 - F_3)\n",
    "\n",
    "    return sigma_inel(E_p) * F_gamma / E_p"
   ]
  }
 ],
 "metadata": {
  "kernelspec": {
   "display_name": "Python 3 (ipykernel)",
   "language": "python",
   "name": "python3"
  },
  "language_info": {
   "codemirror_mode": {
    "name": "ipython",
    "version": 3
   },
   "file_extension": ".py",
   "mimetype": "text/x-python",
   "name": "python",
   "nbconvert_exporter": "python",
   "pygments_lexer": "ipython3",
   "version": "3.10.10"
  }
 },
 "nbformat": 4,
 "nbformat_minor": 5
}
