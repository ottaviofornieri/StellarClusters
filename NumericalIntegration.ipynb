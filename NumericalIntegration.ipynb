{
 "cells": [
  {
   "cell_type": "code",
   "execution_count": 1,
   "id": "31537a22",
   "metadata": {},
   "outputs": [],
   "source": [
    "import os\n",
    "\n",
    "os.environ['OPENBLAS_NUM_THREADS'] = '1'\n",
    "os.environ['MKL_NUM_THREADS'] = '1'\n",
    "\n",
    "import numpy as np\n",
    "import pandas as pd\n",
    "import matplotlib\n",
    "import matplotlib.pyplot as plt\n",
    "import matplotlib.ticker as mticker\n",
    "from matplotlib import rc, rcParams\n",
    "f = mticker.ScalarFormatter(useMathText=True)\n",
    "import scipy\n",
    "from scipy import linalg\n",
    "from scipy.integrate import solve_ivp\n",
    "from scipy.integrate import odeint\n",
    "from scipy.sparse import linalg\n",
    "from scipy.sparse import csr_matrix\n",
    "from scipy.sparse import csc_matrix\n",
    "from scipy.linalg import lu_factor\n",
    "from scipy.linalg import lu_solve\n",
    "import scipy.optimize as optimize\n",
    "import scipy.integrate as integrate\n",
    "import time"
   ]
  },
  {
   "cell_type": "code",
   "execution_count": 2,
   "id": "bed03f58",
   "metadata": {},
   "outputs": [],
   "source": [
    "###############\n",
    "# LaTeX block #\n",
    "###############\n",
    "\n",
    "rc('text', usetex=True)\n",
    "rc('font',**{'family':'serif','serif':['Palatino']})\n",
    "rc('xtick', labelsize=18)\n",
    "rc('ytick', labelsize=18)\n",
    "rcParams['legend.numpoints'] = 1"
   ]
  },
  {
   "cell_type": "code",
   "execution_count": 3,
   "id": "400205c2",
   "metadata": {},
   "outputs": [],
   "source": [
    "def plot_cosmetics_single():\n",
    "    \n",
    "    #plt.figure(figsize=(size_hor, size_vert))\n",
    "    ax = plt.gca()\n",
    "    ax.tick_params(direction='in', axis='both', which='major', length=6.5, width=1.2, labelsize=18)\n",
    "    ax.tick_params(direction='in', axis='both', which='minor', length=3., width=1.2, labelsize=18)\n",
    "    ax.xaxis.set_tick_params(pad=7)\n",
    "    ax.xaxis.labelpad = 5\n",
    "    ax.yaxis.labelpad = 15\n",
    "    \n",
    "    \n",
    "def plot_cosmetics_multi():    \n",
    "    \n",
    "    #plt.figure(figsize=(size_hor, size_vert))\n",
    "    ax = plt.gca()\n",
    "    ax.tick_params(direction='in', axis='both', which='major', length=6.5, width=1.2, labelsize=20)\n",
    "    ax.tick_params(direction='in', axis='both', which='minor', length=3., width=1.2, labelsize=20)\n",
    "    ax.xaxis.set_tick_params(pad=10)\n",
    "    ax.xaxis.labelpad = 5\n",
    "    ax.yaxis.labelpad = 10"
   ]
  },
  {
   "cell_type": "code",
   "execution_count": 14,
   "id": "3ae90886",
   "metadata": {},
   "outputs": [
    {
     "name": "stdout",
     "output_type": "stream",
     "text": [
      "21081.649121577455 21081.736737987245\n"
     ]
    },
    {
     "data": {
      "image/png": "[encoded data removed]",
      "text/plain": [
       "<Figure size 640x480 with 1 Axes>"
      ]
     },
     "metadata": {},
     "output_type": "display_data"
    }
   ],
   "source": [
    "def func_sqrt(x_):\n",
    "    return np.sqrt(x_)\n",
    "\n",
    "x_lin = np.linspace(start=1., stop=1.e7, num=1000)\n",
    "x_log = np.logspace(start=0., stop=np.log10(1.e7), num=1000)\n",
    "\n",
    "x_lin_array = func_sqrt(x_lin)\n",
    "x_log_array = func_sqrt(x_log)\n",
    "\n",
    "\n",
    "plt.plot(x_lin, func_sqrt(x_lin))\n",
    "plt.plot(x_log, func_sqrt(x_log))\n",
    "\n",
    "plt.xscale('log')\n",
    "\n",
    "\n",
    "integral_lin = np.trapz( x_lin_array, x_lin, axis=-1 )\n",
    "integral_log = np.trapz( x_log_array, x_log, axis=-1 )\n",
    "\n",
    "print(integral_lin/1.e6, integral_log/1.e6)"
   ]
  }
 ],
 "metadata": {
  "kernelspec": {
   "display_name": "Python 3 (ipykernel)",
   "language": "python",
   "name": "python3"
  },
  "language_info": {
   "codemirror_mode": {
    "name": "ipython",
    "version": 3
   },
   "file_extension": ".py",
   "mimetype": "text/x-python",
   "name": "python",
   "nbconvert_exporter": "python",
   "pygments_lexer": "ipython3",
   "version": "3.11.2"
  }
 },
 "nbformat": 4,
 "nbformat_minor": 5
}
