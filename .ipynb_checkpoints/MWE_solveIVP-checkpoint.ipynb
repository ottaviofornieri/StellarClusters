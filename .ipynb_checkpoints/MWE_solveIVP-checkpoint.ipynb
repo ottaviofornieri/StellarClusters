{
 "cells": [
  {
   "cell_type": "code",
   "execution_count": 14,
   "id": "00248c71",
   "metadata": {},
   "outputs": [],
   "source": [
    "import os\n",
    "import numpy as np\n",
    "import matplotlib\n",
    "import matplotlib.pyplot as plt\n",
    "from matplotlib import rc, rcParams\n",
    "import scipy\n",
    "from scipy import linalg\n",
    "from scipy.integrate import solve_ivp\n",
    "import time\n",
    "from time import perf_counter\n"
   ]
  },
  {
   "cell_type": "code",
   "execution_count": 7,
   "id": "c8948075",
   "metadata": {},
   "outputs": [],
   "source": [
    "###############\n",
    "# LaTeX block #\n",
    "###############\n",
    "\n",
    "rc('text', usetex=True)\n",
    "rc('font',**{'family':'serif','serif':['Palatino']})\n",
    "rc('xtick', labelsize=18)\n",
    "rc('ytick', labelsize=18)\n",
    "rcParams['legend.numpoints'] = 1"
   ]
  },
  {
   "cell_type": "code",
   "execution_count": 8,
   "id": "adb66fd1",
   "metadata": {},
   "outputs": [],
   "source": [
    "def plot_cosmetics_single():\n",
    "    \n",
    "    #plt.figure(figsize=(size_hor, size_vert))\n",
    "    ax = plt.gca()\n",
    "    ax.tick_params(direction='in', axis='both', which='major', length=6.5, width=1.2, labelsize=18)\n",
    "    ax.tick_params(direction='in', axis='both', which='minor', length=3., width=1.2, labelsize=18)\n",
    "    ax.xaxis.set_tick_params(pad=7)\n",
    "    ax.xaxis.labelpad = 5\n",
    "    ax.yaxis.labelpad = 15\n",
    "    \n",
    "    \n",
    "def plot_cosmetics_multi():    \n",
    "    \n",
    "    #plt.figure(figsize=(size_hor, size_vert))\n",
    "    ax = plt.gca()\n",
    "    ax.tick_params(direction='in', axis='both', which='major', length=6.5, width=1.2, labelsize=20)\n",
    "    ax.tick_params(direction='in', axis='both', which='minor', length=3., width=1.2, labelsize=20)\n",
    "    ax.xaxis.set_tick_params(pad=10)\n",
    "    ax.xaxis.labelpad = 5\n",
    "    ax.yaxis.labelpad = 10"
   ]
  },
  {
   "cell_type": "code",
   "execution_count": 17,
   "id": "00e66112",
   "metadata": {},
   "outputs": [
    {
     "name": "stdout",
     "output_type": "stream",
     "text": [
      "It took 0.006744999999966694 seconds\n"
     ]
    }
   ],
   "source": [
    "Num = 100\n",
    "t_grid = np.linspace(start=0., stop=1., num=Num)\n",
    "\n",
    "def fun_rhs(t, y):\n",
    "    dfdt = np.ones( len(t_grid) )\n",
    "    return dfdt\n",
    "\n",
    "\n",
    "start = perf_counter()\n",
    "\n",
    "\n",
    "output = scipy.integrate.solve_ivp(fun_rhs, [ min(t_grid), max(t_grid) ], np.zeros( len(t_grid) ), method='BDF', t_eval=None, jac_sparsity=None, dense_output=False, events=None, vectorized=False, args=None, atol=1.e-2, rtol=1.e-2)\n",
    "\n",
    "runtime = perf_counter()\n",
    "print(runtime - start)"
   ]
  },
  {
   "cell_type": "code",
   "execution_count": null,
   "id": "197c91e7",
   "metadata": {},
   "outputs": [],
   "source": []
  },
  {
   "cell_type": "code",
   "execution_count": 11,
   "id": "7a313e0e",
   "metadata": {},
   "outputs": [
    {
     "name": "stderr",
     "output_type": "stream",
     "text": [
      "100%|██████████████████████████████████████████████████████████████████████████████████████████████████████████████████████████████████████████████████████████████| 75/75 [01:04<00:00,  1.16it/s]\n",
      "  0%|                                                                                                                                                                      | 0/300 [00:00<?, ?it/s]"
     ]
    },
    {
     "ename": "NameError",
     "evalue": "name 'lsoda_sig' is not defined",
     "output_type": "error",
     "traceback": [
      "\u001b[0;31m---------------------------------------------------------------------------\u001b[0m",
      "\u001b[0;31mNameError\u001b[0m                                 Traceback (most recent call last)",
      "Cell \u001b[0;32mIn[11], line 109\u001b[0m\n\u001b[1;32m    107\u001b[0m Ns, times \u001b[38;5;241m=\u001b[39m benchmark_timing_scaling(time_integration_scipy, \u001b[38;5;241m50\u001b[39m)\n\u001b[1;32m    108\u001b[0m plot_times(Ns, times, \u001b[38;5;124m'\u001b[39m\u001b[38;5;124mred\u001b[39m\u001b[38;5;124m'\u001b[39m, \u001b[38;5;124m'\u001b[39m\u001b[38;5;124mscipy\u001b[39m\u001b[38;5;124m'\u001b[39m)\n\u001b[0;32m--> 109\u001b[0m Ns, times \u001b[38;5;241m=\u001b[39m \u001b[43mbenchmark_timing_scaling\u001b[49m\u001b[43m(\u001b[49m\u001b[43mtime_integration_numbalsoda\u001b[49m\u001b[43m,\u001b[49m\u001b[43m \u001b[49m\u001b[38;5;241;43m200\u001b[39;49m\u001b[43m)\u001b[49m\n\u001b[1;32m    110\u001b[0m plot_times(Ns, times, \u001b[38;5;124m'\u001b[39m\u001b[38;5;124mblack\u001b[39m\u001b[38;5;124m'\u001b[39m, \u001b[38;5;124m'\u001b[39m\u001b[38;5;124mnumbalsoda\u001b[39m\u001b[38;5;124m'\u001b[39m)\n\u001b[1;32m    112\u001b[0m plt\u001b[38;5;241m.\u001b[39mshow()\n",
      "Cell \u001b[0;32mIn[11], line 77\u001b[0m, in \u001b[0;36mbenchmark_timing_scaling\u001b[0;34m(timing_function, N_max)\u001b[0m\n\u001b[1;32m     75\u001b[0m Ns \u001b[38;5;241m=\u001b[39m np\u001b[38;5;241m.\u001b[39marange(\u001b[38;5;241m1\u001b[39m, N_max, step\u001b[38;5;241m=\u001b[39m\u001b[38;5;241m2\u001b[39m)\u001b[38;5;241m*\u001b[39m\u001b[38;5;241m*\u001b[39m\u001b[38;5;241m2\u001b[39m\n\u001b[1;32m     76\u001b[0m shuffled_Ns \u001b[38;5;241m=\u001b[39m rng\u001b[38;5;241m.\u001b[39mpermuted(np\u001b[38;5;241m.\u001b[39mrepeat(Ns, \u001b[38;5;241m3\u001b[39m))\n\u001b[0;32m---> 77\u001b[0m shuffled_times \u001b[38;5;241m=\u001b[39m np\u001b[38;5;241m.\u001b[39marray(\u001b[43m[\u001b[49m\n\u001b[1;32m     78\u001b[0m \u001b[43m    \u001b[49m\u001b[43mtiming_function\u001b[49m\u001b[43m(\u001b[49m\u001b[38;5;28;43mint\u001b[39;49m\u001b[43m(\u001b[49m\u001b[43mnp\u001b[49m\u001b[38;5;241;43m.\u001b[39;49m\u001b[43msqrt\u001b[49m\u001b[43m(\u001b[49m\u001b[43mN\u001b[49m\u001b[43m)\u001b[49m\u001b[43m)\u001b[49m\u001b[43m,\u001b[49m\u001b[43m \u001b[49m\u001b[38;5;28;43mint\u001b[39;49m\u001b[43m(\u001b[49m\u001b[43mnp\u001b[49m\u001b[38;5;241;43m.\u001b[39;49m\u001b[43msqrt\u001b[49m\u001b[43m(\u001b[49m\u001b[43mN\u001b[49m\u001b[43m)\u001b[49m\u001b[43m)\u001b[49m\u001b[43m)\u001b[49m\u001b[43m \u001b[49m\n\u001b[1;32m     79\u001b[0m \u001b[43m    \u001b[49m\u001b[38;5;28;43;01mfor\u001b[39;49;00m\u001b[43m \u001b[49m\u001b[43mN\u001b[49m\u001b[43m \u001b[49m\u001b[38;5;129;43;01min\u001b[39;49;00m\u001b[43m \u001b[49m\u001b[43mtqdm\u001b[49m\u001b[43m(\u001b[49m\u001b[43mshuffled_Ns\u001b[49m\u001b[43m)\u001b[49m\n\u001b[1;32m     80\u001b[0m \u001b[43m\u001b[49m\u001b[43m]\u001b[49m)\n\u001b[1;32m     81\u001b[0m times \u001b[38;5;241m=\u001b[39m []\n\u001b[1;32m     82\u001b[0m \u001b[38;5;28;01mfor\u001b[39;00m Nx \u001b[38;5;129;01min\u001b[39;00m Ns:\n",
      "Cell \u001b[0;32mIn[11], line 78\u001b[0m, in \u001b[0;36m<listcomp>\u001b[0;34m(.0)\u001b[0m\n\u001b[1;32m     75\u001b[0m Ns \u001b[38;5;241m=\u001b[39m np\u001b[38;5;241m.\u001b[39marange(\u001b[38;5;241m1\u001b[39m, N_max, step\u001b[38;5;241m=\u001b[39m\u001b[38;5;241m2\u001b[39m)\u001b[38;5;241m*\u001b[39m\u001b[38;5;241m*\u001b[39m\u001b[38;5;241m2\u001b[39m\n\u001b[1;32m     76\u001b[0m shuffled_Ns \u001b[38;5;241m=\u001b[39m rng\u001b[38;5;241m.\u001b[39mpermuted(np\u001b[38;5;241m.\u001b[39mrepeat(Ns, \u001b[38;5;241m3\u001b[39m))\n\u001b[1;32m     77\u001b[0m shuffled_times \u001b[38;5;241m=\u001b[39m np\u001b[38;5;241m.\u001b[39marray([\n\u001b[0;32m---> 78\u001b[0m     \u001b[43mtiming_function\u001b[49m\u001b[43m(\u001b[49m\u001b[38;5;28;43mint\u001b[39;49m\u001b[43m(\u001b[49m\u001b[43mnp\u001b[49m\u001b[38;5;241;43m.\u001b[39;49m\u001b[43msqrt\u001b[49m\u001b[43m(\u001b[49m\u001b[43mN\u001b[49m\u001b[43m)\u001b[49m\u001b[43m)\u001b[49m\u001b[43m,\u001b[49m\u001b[43m \u001b[49m\u001b[38;5;28;43mint\u001b[39;49m\u001b[43m(\u001b[49m\u001b[43mnp\u001b[49m\u001b[38;5;241;43m.\u001b[39;49m\u001b[43msqrt\u001b[49m\u001b[43m(\u001b[49m\u001b[43mN\u001b[49m\u001b[43m)\u001b[49m\u001b[43m)\u001b[49m\u001b[43m)\u001b[49m \n\u001b[1;32m     79\u001b[0m     \u001b[38;5;28;01mfor\u001b[39;00m N \u001b[38;5;129;01min\u001b[39;00m tqdm(shuffled_Ns)\n\u001b[1;32m     80\u001b[0m ])\n\u001b[1;32m     81\u001b[0m times \u001b[38;5;241m=\u001b[39m []\n\u001b[1;32m     82\u001b[0m \u001b[38;5;28;01mfor\u001b[39;00m Nx \u001b[38;5;129;01min\u001b[39;00m Ns:\n",
      "Cell \u001b[0;32mIn[11], line 49\u001b[0m, in \u001b[0;36mtime_integration_numbalsoda\u001b[0;34m(Nx, Np)\u001b[0m\n\u001b[1;32m     46\u001b[0m t_eval_array \u001b[38;5;241m=\u001b[39m np\u001b[38;5;241m.\u001b[39mlogspace(start\u001b[38;5;241m=\u001b[39mnp\u001b[38;5;241m.\u001b[39mlog10(dt_tot), stop\u001b[38;5;241m=\u001b[39mnp\u001b[38;5;241m.\u001b[39mlog10(last_timestep_dless), num\u001b[38;5;241m=\u001b[39m\u001b[38;5;241m7\u001b[39m)\n\u001b[1;32m     48\u001b[0m start_time \u001b[38;5;241m=\u001b[39m perf_counter()\n\u001b[0;32m---> 49\u001b[0m function \u001b[38;5;241m=\u001b[39m \u001b[43mzero_function_maker\u001b[49m\u001b[43m(\u001b[49m\u001b[43mNx\u001b[49m\u001b[38;5;241;43m=\u001b[39;49m\u001b[43mNx\u001b[49m\u001b[43m,\u001b[49m\u001b[43m \u001b[49m\u001b[43mNp\u001b[49m\u001b[38;5;241;43m=\u001b[39;49m\u001b[43mNp\u001b[49m\u001b[43m)\u001b[49m\n\u001b[1;32m     50\u001b[0m funcptr \u001b[38;5;241m=\u001b[39m function\u001b[38;5;241m.\u001b[39maddress \u001b[38;5;66;03m# address to ODE function\u001b[39;00m\n\u001b[1;32m     51\u001b[0m u0 \u001b[38;5;241m=\u001b[39m np\u001b[38;5;241m.\u001b[39mzeros(Nx\u001b[38;5;241m*\u001b[39mNp) \u001b[38;5;66;03m# Initial conditions\u001b[39;00m\n",
      "Cell \u001b[0;32mIn[11], line 64\u001b[0m, in \u001b[0;36mzero_function_maker\u001b[0;34m(Nx, Np)\u001b[0m\n\u001b[1;32m     63\u001b[0m \u001b[38;5;28;01mdef\u001b[39;00m \u001b[38;5;21mzero_function_maker\u001b[39m(Nx, Np):\n\u001b[0;32m---> 64\u001b[0m     \u001b[38;5;129m@cfunc\u001b[39m(\u001b[43mlsoda_sig\u001b[49m)\n\u001b[1;32m     65\u001b[0m     \u001b[38;5;28;01mdef\u001b[39;00m \u001b[38;5;21mzero_function_lsoda\u001b[39m(t, u, du, p):\n\u001b[1;32m     66\u001b[0m         du \u001b[38;5;241m=\u001b[39m carray(u, (Nx, Np))\u001b[38;5;241m*\u001b[39m\u001b[38;5;241m0.\u001b[39m\n\u001b[1;32m     67\u001b[0m     \u001b[38;5;28;01mreturn\u001b[39;00m zero_function_lsoda\n",
      "\u001b[0;31mNameError\u001b[0m: name 'lsoda_sig' is not defined"
     ]
    },
    {
     "data": {
      "image/png": "[encoded data removed]",
      "text/plain": [
       "<Figure size 640x480 with 1 Axes>"
      ]
     },
     "metadata": {},
     "output_type": "display_data"
    }
   ],
   "source": [
    "import numpy as np\n",
    "from time import perf_counter\n",
    "import matplotlib.pyplot as plt\n",
    "from functools import partial\n",
    "from scipy.optimize import curve_fit\n",
    "from scipy.integrate import solve_ivp\n",
    "\n",
    "#from numbalsoda import lsoda_sig, lsoda, dop853\n",
    "from numba import njit, cfunc, carray\n",
    "from tqdm import tqdm\n",
    "\n",
    "def time_integration_scipy(Nx, Np):\n",
    "    Nt = 1448\n",
    "    dt_tot = 0.0003\n",
    "    x_grid = np.linspace(-.5, .5, num=Nx)\n",
    "    p_grid = np.geomspace(1e1, 5e4, num=Np)\n",
    "\n",
    "    last_timestep_dless = Nt*dt_tot\n",
    "    t_eval_array = np.logspace(start=np.log10(dt_tot), stop=np.log10(last_timestep_dless), num=7)\n",
    "\n",
    "    start_time = perf_counter()\n",
    "    output = solve_ivp(\n",
    "        partial(zero_function, n_points = Nx*Np), \n",
    "        [0., last_timestep_dless], \n",
    "        np.zeros(Nx*Np), \n",
    "        method='Radau', \n",
    "        t_eval=t_eval_array, \n",
    "        dense_output=False, \n",
    "        events=None, \n",
    "        vectorized=False, \n",
    "        args=None, \n",
    "        atol=1.e-2, \n",
    "        rtol=1.e-2\n",
    "    )\n",
    "    end_time = perf_counter()\n",
    "    \n",
    "    return end_time - start_time\n",
    "\n",
    "def time_integration_numbalsoda(Nx, Np):\n",
    "    Nt = 1448\n",
    "    dt_tot = 0.0003\n",
    "    x_grid = np.linspace(-.5, .5, num=Nx)\n",
    "    p_grid = np.geomspace(1e1, 5e4, num=Np)\n",
    "\n",
    "    last_timestep_dless = Nt*dt_tot\n",
    "    t_eval_array = np.logspace(start=np.log10(dt_tot), stop=np.log10(last_timestep_dless), num=7)\n",
    "\n",
    "    start_time = perf_counter()\n",
    "    function = zero_function_maker(Nx=Nx, Np=Np)\n",
    "    funcptr = function.address # address to ODE function\n",
    "    u0 = np.zeros(Nx*Np) # Initial conditions\n",
    "\n",
    "    # integrate with lsoda method\n",
    "    usol, success = lsoda(funcptr, u0, t_eval_array)\n",
    "\n",
    "    # integrate with dop853 method\n",
    "    # usol1, success1 = dop853(funcptr, u0, t_eval_array)\n",
    "\n",
    "    end_time = perf_counter()\n",
    "    \n",
    "    return end_time - start_time\n",
    "\n",
    "def zero_function_maker(Nx, Np):\n",
    "    @cfunc(lsoda_sig)\n",
    "    def zero_function_lsoda(t, u, du, p):\n",
    "        du = carray(u, (Nx, Np))*0.\n",
    "    return zero_function_lsoda\n",
    "\n",
    "def zero_function(t, f_, n_points):\n",
    "    dfdt = np.zeros( n_points )\n",
    "    return dfdt\n",
    "\n",
    "def benchmark_timing_scaling(timing_function, N_max):\n",
    "    rng = np.random.default_rng(seed=1)\n",
    "    Ns = np.arange(1, N_max, step=2)**2\n",
    "    shuffled_Ns = rng.permuted(np.repeat(Ns, 3))\n",
    "    shuffled_times = np.array([\n",
    "        timing_function(int(np.sqrt(N)), int(np.sqrt(N))) \n",
    "        for N in tqdm(shuffled_Ns)\n",
    "    ])\n",
    "    times = []\n",
    "    for Nx in Ns:\n",
    "        corresponding_times = shuffled_times[np.where(shuffled_Ns==Nx)[0]]\n",
    "        times.append(np.average(corresponding_times))\n",
    "    \n",
    "    return Ns, times\n",
    "\n",
    "def plot_times(Ns, times, color, label):\n",
    "    plt.loglog(Ns, times, c=color, label=label)\n",
    "    \n",
    "    model = lambda N, index, scale: scale * N**index\n",
    "    popt, pcov = curve_fit(model, Ns, times)\n",
    "\n",
    "    plt.loglog(\n",
    "        Ns, model(Ns, *popt),\n",
    "        label=f'Scaling index: {popt[0]:.2f}',\n",
    "        c=color,\n",
    "        ls='--'\n",
    "    )\n",
    "\n",
    "    plt.legend()\n",
    "    plt.xlabel('Number of total points')\n",
    "    plt.ylabel('Time [seconds]')\n",
    "\n",
    "if __name__ == '__main__':\n",
    "    \n",
    "    Ns, times = benchmark_timing_scaling(time_integration_scipy, 50)\n",
    "    plot_times(Ns, times, 'red', 'scipy')\n",
    "    Ns, times = benchmark_timing_scaling(time_integration_numbalsoda, 200)\n",
    "    plot_times(Ns, times, 'black', 'numbalsoda')\n",
    "\n",
    "    plt.show()"
   ]
  },
  {
   "cell_type": "code",
   "execution_count": null,
   "id": "adf24c9b",
   "metadata": {},
   "outputs": [],
   "source": []
  },
  {
   "cell_type": "code",
   "execution_count": null,
   "id": "52f789c7",
   "metadata": {},
   "outputs": [],
   "source": []
  }
 ],
 "metadata": {
  "kernelspec": {
   "display_name": "StarCluster_venv",
   "language": "python",
   "name": "starcluster_venv"
  },
  "language_info": {
   "codemirror_mode": {
    "name": "ipython",
    "version": 3
   },
   "file_extension": ".py",
   "mimetype": "text/x-python",
   "name": "python",
   "nbconvert_exporter": "python",
   "pygments_lexer": "ipython3",
   "version": "3.11.2"
  }
 },
 "nbformat": 4,
 "nbformat_minor": 5
}
